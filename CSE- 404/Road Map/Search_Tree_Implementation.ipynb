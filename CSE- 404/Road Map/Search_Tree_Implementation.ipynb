{
  "nbformat": 4,
  "nbformat_minor": 0,
  "metadata": {
    "colab": {
      "provenance": [],
      "collapsed_sections": []
    },
    "kernelspec": {
      "name": "python3",
      "display_name": "Python 3"
    },
    "language_info": {
      "name": "python"
    }
  },
  "cells": [
    {
      "cell_type": "markdown",
      "source": [
        "### Owner : Shawan Das\n",
        "###  ID   : 19101020"
      ],
      "metadata": {
        "id": "L5AG4OyMtoGC"
      }
    },
    {
      "cell_type": "markdown",
      "source": [
        "### Description"
      ],
      "metadata": {
        "id": "JntNC2luuQCg"
      }
    },
    {
      "cell_type": "markdown",
      "source": [
        "Heuristic Calculation\n",
        "1. Home              - 20 % 4 = 0-> 1\n",
        "2. Bahadur Shah Park - 20 % 15 = 5\n",
        "3. Baldha Garden     - 20 % 12 = 8 % 5-> 3 (8>5)\n",
        "4. Gulistan          - 20 % 8  = 4\n",
        "5. Motijheel         - 20 % 9  = 2\n",
        "6. Puran Paltan      - 20 % 11 = 9 % 5-> 4 (9>5)\n",
        "7. Matshya Bhaban    - 20 % 13 = 7 % 5-> 2 (7>5)\n",
        "8. Shahbagh          - 20 % 8  = 4\n",
        "9. Kawran Bazar      - 20 % 11 = 9 % 5-> 4 (9>5)\n",
        "10. Green Road       - 20 % 9  = 2\n",
        "11. Farmgate         - 20 % 8  = 4\n",
        "12. UAP              - 0 (Destination)"
      ],
      "metadata": {
        "id": "GlJciyhvV-y6"
      }
    },
    {
      "cell_type": "markdown",
      "source": [
        "### Places"
      ],
      "metadata": {
        "id": "msYWrdqpuUIw"
      }
    },
    {
      "cell_type": "code",
      "execution_count": null,
      "metadata": {
        "id": "bSpJmucrGYlk"
      },
      "outputs": [],
      "source": [
        "full = {\n",
        "        'H': \"HOME\",\n",
        "        'BSP': \"Bahadur Shah Park\",\n",
        "        'BG': \"Baldha Garden\",\n",
        "        'GU': \"Gulistan\",\n",
        "        'MO': \"Motijheel\", \n",
        "        'PP': \"Puran Paltan\",\n",
        "        'MB': \"Matshya Bhaban\",\n",
        "        'GR': \"Green Road\",\n",
        "        'SHA': \"Shahbagh\",\n",
        "        'KB': \"Kawran Bazar\",\n",
        "        'FARM': \"Farmgate\",\n",
        "        'UAP': \"UAP\"\n",
        "        }"
      ]
    },
    {
      "cell_type": "markdown",
      "source": [
        "### Heuristic Value of Nodes"
      ],
      "metadata": {
        "id": "ZtnP0Yysudnr"
      }
    },
    {
      "cell_type": "code",
      "source": [
        "def heuristic(n):\n",
        "  H_dist = {\n",
        "            'H': 4,\n",
        "            'BSP':3,\n",
        "            'BG': 3,\n",
        "            'GU': 4,\n",
        "            'MO': 2,\n",
        "            'PP': 4,\n",
        "            'MB': 2,\n",
        "            'SHA': 2,\n",
        "            'KB': 4,\n",
        "            'GR': 2,\n",
        "            'FARM': 4,\n",
        "            'UAP': 0\n",
        "           }\n",
        "  return H_dist[n]"
      ],
      "metadata": {
        "id": "cAIL-bKHRCiC"
      },
      "execution_count": null,
      "outputs": []
    },
    {
      "cell_type": "markdown",
      "source": [
        "### Connected Nodes"
      ],
      "metadata": {
        "id": "T9jytBjQulCw"
      }
    },
    {
      "cell_type": "code",
      "source": [
        "Graph_nodes = {\n",
        "        'H': [ ('BSP', 0.522), ('BG', 0.917) ],\n",
        "        'BSP': [('GU', 1.83)],\n",
        "        'BG': [('MO', 0.533)],\n",
        "        'GU': [('PP', 0.583)],\n",
        "        'MO': [('PP', 1.68)],\n",
        "        'PP': [('MB', 1.0)],\n",
        "        'MB': [ ('SHA', 1.11), ('KB', 2.48) ],\n",
        "        'SHA': [('KB', 1.18)],\n",
        "        'KB': [ ('GR', 0.5), ('FARM', 1.0) ],\n",
        "        'GR': [('UAP', 0.470)],\n",
        "        'FARM': [('UAP', 0.253)],\n",
        "        'UAP': None\n",
        "       }"
      ],
      "metadata": {
        "id": "1zxXiVCyOBBZ"
      },
      "execution_count": null,
      "outputs": []
    },
    {
      "cell_type": "markdown",
      "source": [
        "### Functions"
      ],
      "metadata": {
        "id": "G1z5TAXwutUY"
      }
    },
    {
      "cell_type": "code",
      "source": [
        "def get_neighbors(v):\n",
        "  if v in Graph_nodes:\n",
        "    return Graph_nodes[v]\n",
        "  else:\n",
        "    return None"
      ],
      "metadata": {
        "id": "Apow6vChRhBH"
      },
      "execution_count": null,
      "outputs": []
    },
    {
      "cell_type": "code",
      "source": [
        "def search(start, goal):\n",
        "\n",
        "  open_fringe = set(start)\n",
        "  close_fringe = set()\n",
        "  g = {} #store distance from starting node\n",
        "  parents = {}# parents contains an adjacency map of all nodes\n",
        "\n",
        "  #ditance of starting node from itself is zero\n",
        "  g[start] = 0\n",
        "\n",
        "  #start is root node i.e it has no parent nodes\n",
        "  #so start is set to its own parent node\n",
        "  parents[start] = start   #start node\n",
        "\n",
        "  while len(open_fringe) > 0:\n",
        "    n = None\n",
        "    #node with lowest f() is found\n",
        "    for v in open_fringe:\n",
        "      if n == None or g[v] + heuristic(v) < g[n] + heuristic(n):\n",
        "        n = v\n",
        "      \n",
        "    if n == goal or Graph_nodes[n] == None:\n",
        "      pass\n",
        "    else:\n",
        "      for (m, weight) in get_neighbors(n):\n",
        "        #nodes 'm' not in first and last set are added to first\n",
        "        #n is set its parent\n",
        "        if m not in open_fringe and m not in close_fringe:\n",
        "          open_fringe.add(m)\n",
        "          parents[m] = n\n",
        "          g[m] = g[n] + weight\n",
        "        \n",
        "        #for each node m,compare its distance from start i.e g(m) to the\n",
        "        #from start through n node\n",
        "        else:\n",
        "          if g[m] > g[n] + weight:\n",
        "            #update g(m)\n",
        "            g[m] = g[n] + weight\n",
        "            #change parent of m to n\n",
        "            parents[m] = n\n",
        "\n",
        "            #if m in closed set,remove and add to open\n",
        "            if m in close_fringe:\n",
        "              close_fringe.remove(m)\n",
        "              open_fringe.add(m)\n",
        "\n",
        "    if n == None:\n",
        "      print('Path does not exist!')\n",
        "      return None\n",
        "\n",
        "    # if the current node is the goal\n",
        "    # then  begin reconstructing the path from it to the start\n",
        "    if n == goal:\n",
        "      path = []\n",
        "      path_cp = []\n",
        "\n",
        "      while parents[n] != n:\n",
        "        path.append(n)\n",
        "        path_cp.append(full[n])\n",
        "        n = parents[n]\n",
        "\n",
        "      path.append(start)\n",
        "      path_cp.append(full[start])\n",
        "      path.reverse()\n",
        "      path_cp.reverse()\n",
        "      print('Path found: {}'.format(str(path_cp).replace(\",\",\"-->\")))\n",
        "      return path\n",
        "\n",
        "    open_fringe.remove(n)\n",
        "    close_fringe.add(n)\n",
        "\n",
        "  print('Path does not exist!')\n",
        "  return None"
      ],
      "metadata": {
        "id": "9qMjEAuIaeyN"
      },
      "execution_count": null,
      "outputs": []
    },
    {
      "cell_type": "markdown",
      "source": [
        "### Void Main"
      ],
      "metadata": {
        "id": "Rr14wb41uyMH"
      }
    },
    {
      "cell_type": "code",
      "source": [
        "path = search('H', 'UAP')\n",
        "\n",
        "path_cost = 0.0\n",
        "\n",
        "for i in range(len(path)-1):\n",
        "  for key,value in Graph_nodes[path[i]]:\n",
        "    if key == path[i+1]:\n",
        "      path_cost +=value\n",
        "      break\n",
        "\n",
        "print(\"Total Path Cost %.2f Km\"% path_cost)"
      ],
      "metadata": {
        "colab": {
          "base_uri": "https://localhost:8080/"
        },
        "id": "5HTHkSpOezHs",
        "outputId": "caac0f89-cebf-46b1-f91d-ef6f1adac09e"
      },
      "execution_count": null,
      "outputs": [
        {
          "output_type": "stream",
          "name": "stdout",
          "text": [
            "Path found: ['HOME'--> 'Bahadur Shah Park'--> 'Gulistan'--> 'Puran Paltan'--> 'Matshya Bhaban'--> 'Shahbagh'--> 'Kawran Bazar'--> 'Green Road'--> 'UAP']\n",
            "Total Path Cost 7.20 Km\n"
          ]
        }
      ]
    }
  ]
}